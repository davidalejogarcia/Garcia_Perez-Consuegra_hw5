{
 "metadata": {
  "name": ""
 },
 "nbformat": 3,
 "nbformat_minor": 0,
 "worksheets": [
  {
   "cells": [
    {
     "cell_type": "code",
     "collapsed": false,
     "input": [
      "import numpy\n",
      "import math\n",
      "from scipy.misc.pilutil import Image\n",
      "import scipy.fftpack as fftim\n",
      "from mpl_toolkits.mplot3d import Axes3D\n"
     ],
     "language": "python",
     "metadata": {},
     "outputs": [],
     "prompt_number": 6
    },
    {
     "cell_type": "code",
     "collapsed": false,
     "input": [
      "filename = '20_popc_cho009-1.tif'\n",
      "\n",
      "imagen = Image.open(filename).convert('L') #http://effbot.org/imagingbook/image.htm\n",
      "    \n",
      "array_imagen = numpy.asarray(imagen) # Convert the input to an array. - http://docs.scipy.org/doc/numpy/reference/generated/numpy.asarray.html\n",
      "    \n",
      "array_imagen_fft = (fftim.fft2(array_imagen))  # Transformada de Fourier al array_imagen\n",
      "\n",
      "#shift_array = fftim.fft.shift(array_imagen_fft) # Shift del array para organizar las frecuencias. http://docs.scipy.org/doc/numpy/reference/generated/numpy.fft.fftshift.html\n",
      "    \n",
      "print array_imagen_fft"
     ],
     "language": "python",
     "metadata": {},
     "outputs": [
      {
       "output_type": "stream",
       "stream": "stdout",
       "text": [
        "[[  3.13274390e+07     +0.j          -3.72450974e+04-910162.47349504j\n",
        "   -1.60955225e+05-598759.46297632j ...,  -3.48426020e+04+616987.32637536j\n",
        "   -1.60955225e+05+598759.46297632j  -3.72450974e+04+910162.47349504j]\n",
        " [ -7.82537042e+05+181070.15761301j   2.99348988e+05-161214.2590805j\n",
        "    6.13627015e+04 -82494.82119872j ...,   1.96392053e+04 -17089.84115779j\n",
        "    5.20689659e+04 +92496.08272892j  -5.41825004e+05+240169.17863214j]\n",
        " [ -3.08790785e+05 +62604.5700547j    1.19081841e+05+114374.2155753j\n",
        "    1.63246192e+05 -47196.1012265j  ...,  -4.34217489e+04+130261.83380541j\n",
        "   -2.60438345e+05 -32172.91537853j  -2.08718339e+05 +16509.08960146j]\n",
        " ..., \n",
        " [ -6.54900463e+04-341884.7843642j   -1.70515235e+05+102739.69240649j\n",
        "    8.49565884e+04 +10073.87805711j ...,  -2.54499741e+05 -97399.2166094j\n",
        "    7.24855583e+03-175778.51552875j   5.03741742e+04 -65404.16874727j]\n",
        " [ -3.08790785e+05 -62604.5700547j   -2.08718339e+05 -16509.08960146j\n",
        "   -2.60438345e+05 +32172.91537853j ...,   1.27746698e+05 -26965.35580093j\n",
        "    1.63246192e+05 +47196.1012265j    1.19081841e+05-114374.2155753j ]\n",
        " [ -7.82537042e+05-181070.15761301j  -5.41825004e+05-240169.17863214j\n",
        "    5.20689659e+04 -92496.08272892j ...,   9.34492514e+03 -93670.03555269j\n",
        "    6.13627015e+04 +82494.82119872j   2.99348988e+05+161214.2590805j ]]\n"
       ]
      }
     ],
     "prompt_number": 9
    },
    {
     "cell_type": "code",
     "collapsed": false,
     "input": [],
     "language": "python",
     "metadata": {},
     "outputs": [],
     "prompt_number": 7
    },
    {
     "cell_type": "code",
     "collapsed": false,
     "input": [],
     "language": "python",
     "metadata": {},
     "outputs": []
    }
   ],
   "metadata": {}
  }
 ]
}